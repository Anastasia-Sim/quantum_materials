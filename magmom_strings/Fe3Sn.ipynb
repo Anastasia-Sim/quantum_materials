{
 "cells": [
  {
   "attachments": {},
   "cell_type": "markdown",
   "metadata": {},
   "source": [
    "## MAGMOM lines\n",
    "The code below makes 24 MAGMOM lines for INCAR file for VASP. Two specified atoms are rotated and remaining atoms are orthogonal to the two atoms. Created by Anastasia Simonova."
   ]
  },
  {
   "cell_type": "code",
   "execution_count": 4,
   "metadata": {},
   "outputs": [],
   "source": [
    "## triplents of numbers, depending on input axis\n",
    "def axis_map(axis, val):\n",
    "    \"\"\"\n",
    "    Map a specified AXIS to a corresponding triplet:\n",
    "    \"x\" --> (VAL 0 0)\n",
    "    \"y\" --> (0 VAL 0)\n",
    "    \"z\" --> (0 0 VAL)\n",
    "\n",
    "    Return the corresponding triplet.\n",
    "    \"\"\"\n",
    "    return str(val) + \" 0 0 \" if axis == \"x\" else \"0 \" + str(val) + \" 0 \" if axis == \"y\" else (\"0 0 \" + str(val) + \" \")\n"
   ]
  },
  {
   "cell_type": "code",
   "execution_count": 5,
   "metadata": {},
   "outputs": [],
   "source": [
    "def magmom_rotation(x1, x2, num_magn_atoms,\n",
    "                    rot_axis_1, rot_axis_2, stat_axis, val,\n",
    "                    num_nonmagn_atoms):\n",
    "    \"\"\"\n",
    "    Creare 4 combinations of magnetic momments for 2 atoms:\n",
    "    ++, +-, -+, --.\n",
    "\n",
    "    Parameters:\n",
    "    -----------------------------------------------------------------\n",
    "    x1 - coordinate of the first atom (starting with 1).\n",
    "    x2 - coordinate of the second atom (starting with 1).\n",
    "    num_magn_atoms - number of magnetic atoms in the system.\n",
    "    rot_axis_1 - axis of rotation for atom 1.\n",
    "    rot_axis_2 - axis of rotation for atom 2.\n",
    "    stat_axis - axis to align all otehr atoms in the system.\n",
    "    val - magnetic moment magnitude.\n",
    "    num_nonmagn_atoms - number of non-magnetic atoms in the system\n",
    "    to append (0 0 0) triplets.\n",
    "\n",
    "    Return:\n",
    "    -----------------------------------------------------------------\n",
    "    4 strings made of ordered triplets for each atom in the system.\n",
    "\n",
    "    \"\"\"\n",
    "    str1 = \"\"\n",
    "    str2 = \"\"\n",
    "    padding = \"\"\n",
    "    str_nonmagn = \"0 0 0 \" * num_nonmagn_atoms\n",
    "\n",
    "    str_stat_axis = axis_map(stat_axis, val)\n",
    "\n",
    "    for i in range(x1 - 1):\n",
    "        str1 += str_stat_axis\n",
    "    \n",
    "    for i in range(num_magn_atoms - x2):\n",
    "        str2 += str_stat_axis\n",
    "\n",
    "    for i in range(x2 - x1 - 1):\n",
    "        padding += str_stat_axis\n",
    "\n",
    "    str_axis1_up = axis_map(rot_axis_1, val)\n",
    "    str_axis1_down = axis_map(rot_axis_1, -1 * val)\n",
    "    str_axis2_up = axis_map(rot_axis_2, val)\n",
    "    str_axis2_down = axis_map(rot_axis_2, -1 * val)\n",
    "\n",
    "    str00 = str1 + str_axis1_up + padding + str_axis2_up + str2 + str_nonmagn\n",
    "    str01 = str1 + str_axis1_up + padding + str_axis2_down + str2 + str_nonmagn\n",
    "    str10 = str1 + str_axis1_down + padding + str_axis2_up + str2 + str_nonmagn\n",
    "    str11 = str1 + str_axis1_down + padding + str_axis2_down + str2 + str_nonmagn\n",
    "    \n",
    "    return str00, str01, str10, str11"
   ]
  },
  {
   "cell_type": "code",
   "execution_count": 7,
   "metadata": {},
   "outputs": [],
   "source": [
    "def incar_magmom_strings(x1, x2, num_magn_atoms, val, num_nonmagn_atoms, file_name):\n",
    "    \"\"\"\n",
    "    Generate 24 magmom strings and write them into a txt file FILE_NAME.\n",
    "\n",
    "    Paramenters:\n",
    "    -----------------------------------------------------------------\n",
    "    x1 - coordinate of the first atom (starting with 1).\n",
    "    x2 - coordinate of the second atom (starting with 1).\n",
    "    num_magn_atoms - number of magnetic atoms in the system.\n",
    "    val - magnetic moment magnitude.\n",
    "    num_nonmagn_atoms - number of non-magnetic atoms in the system.\n",
    "    file_name - file to record the results.\n",
    "\n",
    "    Return:\n",
    "    -----------------------------------------------------------------\n",
    "    None\n",
    "\n",
    "    \"\"\"\n",
    "    txt_file = open(file_name, \"w\")\n",
    "    axes = [\"x\", \"y\", \"z\"]\n",
    "    for i in range(3):\n",
    "        for j in range(3):\n",
    "            if (i <= j):\n",
    "                stat_axis = \"x\" if (i != 0 and j != 0) else \"y\" if (i != 1 and j != 1) else \"z\"\n",
    "                s0, s1, s2, s3 = magmom_rotation(x1, x2, num_magn_atoms, axes[i], axes[j], stat_axis, val, num_nonmagn_atoms)\n",
    "                txt_file.write(f\"+{axes[i]} +{axes[j]}:\\n\" + s0 + \"\\n\\n\")\n",
    "                txt_file.write(f\"+{axes[i]} -{axes[j]}:\\n\" + s1 + \"\\n\\n\")\n",
    "                txt_file.write(f\"-{axes[i]} +{axes[j]}:\\n\" + s2 + \"\\n\\n\")\n",
    "                txt_file.write(f\"-{axes[i]} -{axes[j]}:\\n\" + s3 + \"\\n\\n\")\n",
    "    txt_file.close()\n",
    "    print(f\"The file {file_name} was recorded successfully!\")\n"
   ]
  },
  {
   "cell_type": "code",
   "execution_count": 8,
   "metadata": {},
   "outputs": [
    {
     "name": "stdout",
     "output_type": "stream",
     "text": [
      "The file 5-29.txt was recorded successfully!\n",
      "The file 13-29.txt was recorded successfully!\n",
      "The file 29-45.txt was recorded successfully!\n"
     ]
    }
   ],
   "source": [
    "# Test the code on a 64-atom system:\n",
    "\n",
    "fe_count = 48\n",
    "sn_count = 16\n",
    "\n",
    "# 5-29\n",
    "incar_magmom_strings(fe_count, 5, 29, sn_count, 3, \"5-29.txt\")\n",
    "\n",
    "# 13-29\n",
    "incar_magmom_strings(fe_count, 13, 29, sn_count, 3, \"13-29.txt\")\n",
    "\n",
    "# 29-45\n",
    "incar_magmom_strings(fe_count, 29, 45, sn_count, 3, \"29-45.txt\")"
   ]
  }
 ],
 "metadata": {
  "kernelspec": {
   "display_name": "research",
   "language": "python",
   "name": "python3"
  },
  "language_info": {
   "codemirror_mode": {
    "name": "ipython",
    "version": 3
   },
   "file_extension": ".py",
   "mimetype": "text/x-python",
   "name": "python",
   "nbconvert_exporter": "python",
   "pygments_lexer": "ipython3",
   "version": "3.11.0"
  },
  "orig_nbformat": 4,
  "vscode": {
   "interpreter": {
    "hash": "662ba1bc92746f5512861d885bb135a634c613d7aee586f6d92dc2f9099d81df"
   }
  }
 },
 "nbformat": 4,
 "nbformat_minor": 2
}
